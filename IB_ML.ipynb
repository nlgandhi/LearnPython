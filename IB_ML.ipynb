{
  "nbformat": 4,
  "nbformat_minor": 0,
  "metadata": {
    "colab": {
      "name": "IB_ML.ipynb",
      "provenance": [],
      "collapsed_sections": [],
      "authorship_tag": "ABX9TyPz2GTXfI1rrUZLRQVYoFyl",
      "include_colab_link": true
    },
    "kernelspec": {
      "name": "python3",
      "display_name": "Python 3"
    },
    "language_info": {
      "name": "python"
    },
    "accelerator": "GPU"
  },
  "cells": [
    {
      "cell_type": "markdown",
      "metadata": {
        "id": "view-in-github",
        "colab_type": "text"
      },
      "source": [
        "<a href=\"https://colab.research.google.com/github/nlgandhi/LearnPython/blob/master/IB_ML.ipynb\" target=\"_parent\"><img src=\"https://colab.research.google.com/assets/colab-badge.svg\" alt=\"Open In Colab\"/></a>"
      ]
    },
    {
      "cell_type": "code",
      "metadata": {
        "id": "B6A1mUtWDJ_X"
      },
      "source": [
        "!pip install -q pandas lightgbm"
      ],
      "execution_count": 4,
      "outputs": []
    },
    {
      "cell_type": "code",
      "metadata": {
        "id": "KMp4Iow0Wvd4"
      },
      "source": [
        "import numpy as np\n",
        "import matplotlib.pyplot as plt\n",
        "import pandas as pd\n",
        "import sklearn\n"
      ],
      "execution_count": 5,
      "outputs": []
    },
    {
      "cell_type": "markdown",
      "metadata": {
        "id": "OI6uW4O2mBzt"
      },
      "source": [
        "# New Section"
      ]
    },
    {
      "cell_type": "code",
      "metadata": {
        "id": "VAb04zLeappK",
        "colab": {
          "base_uri": "https://localhost:8080/"
        },
        "outputId": "b7bd0cfe-b7b0-4bba-e779-80a8f773e5c5"
      },
      "source": [
        "# Importing the dataset. \n",
        "dataset = pd.read_csv('IB_Train_Data.csv')\n",
        "# This is the most important step. In this case we are reading the features\n",
        "# that we want to train the model with. In this case its just Age and Estimated Salary.\n",
        "X = dataset.iloc[:, [0, 9]].values\n",
        "# This is the Label. In ths case the LABEL is Purchased\n",
        "y = dataset.iloc[:, 10].values\n",
        "print('Features Loaded into X and Labels loaded into Y')\n",
        "print(X)\n",
        "print(y)"
      ],
      "execution_count": 6,
      "outputs": [
        {
          "output_type": "stream",
          "text": [
            "Features Loaded into X and Labels loaded into Y\n",
            "[[  1  24]\n",
            " [  1  24]\n",
            " [  1  20]\n",
            " ...\n",
            " [100   3]\n",
            " [100   3]\n",
            " [100   3]]\n",
            "[0 0 0 ... 1 1 1]\n"
          ],
          "name": "stdout"
        }
      ]
    },
    {
      "cell_type": "code",
      "metadata": {
        "colab": {
          "base_uri": "https://localhost:8080/"
        },
        "id": "6n83g5rQYOKT",
        "outputId": "97674af6-8aec-4f8c-a282-4856c4454613"
      },
      "source": [
        "# Splitting the dataset into the Training set and Test set\n",
        "from sklearn.model_selection import train_test_split\n",
        "x_train, x_test, y_train, y_test = train_test_split(X, y, test_size = 0.25, random_state = 0)\n",
        "print('Data Has Been Split')"
      ],
      "execution_count": 7,
      "outputs": [
        {
          "output_type": "stream",
          "text": [
            "Data Has Been Split\n"
          ],
          "name": "stdout"
        }
      ]
    },
    {
      "cell_type": "code",
      "metadata": {
        "id": "ojO1CoIS58TW"
      },
      "source": [
        "# Feature Scaling\n",
        "# StandardScaler rescales each column to have 0 mean and 1 Standard Deviation.  \n",
        "from sklearn.preprocessing import StandardScaler\n",
        "sc = StandardScaler()\n",
        "x_train = sc.fit_transform(x_train)\n",
        "x_test = sc.transform(x_test)\n"
      ],
      "execution_count": 8,
      "outputs": []
    },
    {
      "cell_type": "code",
      "metadata": {
        "id": "3YzFQ0R-uGuS"
      },
      "source": [
        "# Start Here...\n",
        "import lightgbm as lgb\n",
        "\n",
        "# Load the Training Data Age and Salary and Label => Purchased\n",
        "# First Parameter is the Training Data and the second Parameters is the label\n",
        "d_train = lgb.Dataset(x_train, label=y_train)\n",
        "params = {}\n",
        "params['learning_rate'] = 0.003\n",
        "params['boosting_type'] = 'gbdt'\n",
        "params['objective'] = 'binary'\n",
        "params['metric'] = 'binary_logloss'\n",
        "params['sub_feature'] = 0.5\n",
        "params['num_leaves'] = 10\n",
        "params['min_data'] = 50\n",
        "params['max_depth'] = 10\n",
        "clf = lgb.train(params, d_train, 100)"
      ],
      "execution_count": 25,
      "outputs": []
    },
    {
      "cell_type": "code",
      "metadata": {
        "id": "9dj6NNLPuVhf",
        "colab": {
          "base_uri": "https://localhost:8080/"
        },
        "outputId": "e522f567-be47-46aa-aa1a-719a882a0ad5"
      },
      "source": [
        "#Prediction\n",
        "y_pred=clf.predict(x_test)\n",
        "print(len(y_pred))\n",
        "\n",
        "# for i in y_pred:\n",
        "for i in range(len(y_pred)):  \n",
        "    if y_pred[i]>=.5:       # setting threshold to .5\n",
        "        y_pred[i]=1\n",
        "    else:  \n",
        "        y_pred[i]=0\n",
        "\n",
        "print(y_pred)\n",
        "#print(y_test)    "
      ],
      "execution_count": 35,
      "outputs": [
        {
          "output_type": "stream",
          "text": [
            "34104\n",
            "[0. 0. 0. ... 0. 0. 0.]\n"
          ],
          "name": "stdout"
        }
      ]
    },
    {
      "cell_type": "code",
      "metadata": {
        "id": "gMTBUsT9u7Po",
        "colab": {
          "base_uri": "https://localhost:8080/"
        },
        "outputId": "084e9faf-ed1a-4a2b-ffa0-689931712479"
      },
      "source": [
        "#Confusion matrix\n",
        "from sklearn.metrics import confusion_matrix\n",
        "cm = confusion_matrix(y_test, y_pred)\n",
        "#Accuracy\n",
        "from sklearn.metrics import accuracy_score\n",
        "accuracy=accuracy_score(y_pred,y_test)\n",
        "print(accuracy)"
      ],
      "execution_count": 36,
      "outputs": [
        {
          "output_type": "stream",
          "text": [
            "0.7623445930096177\n"
          ],
          "name": "stdout"
        }
      ]
    }
  ]
}