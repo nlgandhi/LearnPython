{
  "nbformat": 4,
  "nbformat_minor": 0,
  "metadata": {
    "colab": {
      "name": "IB_ML.ipynb",
      "provenance": [],
      "collapsed_sections": [],
      "authorship_tag": "ABX9TyMADfZjqL/iap2tA0fdTpJ7",
      "include_colab_link": true
    },
    "kernelspec": {
      "name": "python3",
      "display_name": "Python 3"
    },
    "language_info": {
      "name": "python"
    }
  },
  "cells": [
    {
      "cell_type": "markdown",
      "metadata": {
        "id": "view-in-github",
        "colab_type": "text"
      },
      "source": [
        "<a href=\"https://colab.research.google.com/github/nlgandhi/LearnPython/blob/master/IB_ML.ipynb\" target=\"_parent\"><img src=\"https://colab.research.google.com/assets/colab-badge.svg\" alt=\"Open In Colab\"/></a>"
      ]
    },
    {
      "cell_type": "code",
      "metadata": {
        "id": "B6A1mUtWDJ_X",
        "colab": {
          "base_uri": "https://localhost:8080/"
        },
        "outputId": "073b82f7-db41-4927-e27b-8a2976f6253e"
      },
      "source": [
        "!pip install -q pandas lightgbm\n",
        "!pip install scikit-learn"
      ],
      "execution_count": 3,
      "outputs": [
        {
          "output_type": "stream",
          "text": [
            "Requirement already satisfied: scikit-learn in /usr/local/lib/python3.7/dist-packages (0.22.2.post1)\n",
            "Requirement already satisfied: numpy>=1.11.0 in /usr/local/lib/python3.7/dist-packages (from scikit-learn) (1.19.5)\n",
            "Requirement already satisfied: joblib>=0.11 in /usr/local/lib/python3.7/dist-packages (from scikit-learn) (1.0.1)\n",
            "Requirement already satisfied: scipy>=0.17.0 in /usr/local/lib/python3.7/dist-packages (from scikit-learn) (1.4.1)\n"
          ],
          "name": "stdout"
        }
      ]
    },
    {
      "cell_type": "code",
      "metadata": {
        "id": "KMp4Iow0Wvd4"
      },
      "source": [
        "import numpy as np\n",
        "import matplotlib.pyplot as plt\n",
        "import pandas as pd\n",
        "import sklearn\n"
      ],
      "execution_count": 7,
      "outputs": []
    },
    {
      "cell_type": "markdown",
      "metadata": {
        "id": "OI6uW4O2mBzt"
      },
      "source": [
        "# New Section"
      ]
    },
    {
      "cell_type": "code",
      "metadata": {
        "id": "VAb04zLeappK",
        "colab": {
          "base_uri": "https://localhost:8080/"
        },
        "outputId": "a4f65b14-b82c-4638-ead0-23784959cc09"
      },
      "source": [
        "# Importing the dataset. \n",
        "dataset = pd.read_csv('IB_Train_Data.csv')\n",
        "# This is the most important step. In this case we are reading the features\n",
        "# that we want to train the model with. In this case its just Age and Estimated Salary.\n",
        "X = dataset.iloc[:, [0, 9]].values\n",
        "# This is the Label. In ths case the LABEL is Purchased\n",
        "y = dataset.iloc[:, 10].values\n",
        "print('Features Loaded into X and Labels loaded into Y')\n",
        "# print(X)\n",
        "# print(y)"
      ],
      "execution_count": 8,
      "outputs": [
        {
          "output_type": "stream",
          "text": [
            "Features Loaded into X and Labels loaded into Y\n"
          ],
          "name": "stdout"
        }
      ]
    },
    {
      "cell_type": "code",
      "metadata": {
        "colab": {
          "base_uri": "https://localhost:8080/"
        },
        "id": "6n83g5rQYOKT",
        "outputId": "25919f6a-884e-40c3-dc50-c0eaee97aee7"
      },
      "source": [
        "# Splitting the dataset into the Training set and Test set\n",
        "from sklearn.model_selection import train_test_split\n",
        "x_train, x_test, y_train, y_test = train_test_split(X, y, test_size = 0.3, random_state = 0)\n",
        "print('Data Has Been Split')"
      ],
      "execution_count": 9,
      "outputs": [
        {
          "output_type": "stream",
          "text": [
            "Data Has Been Split\n"
          ],
          "name": "stdout"
        }
      ]
    },
    {
      "cell_type": "code",
      "metadata": {
        "id": "ojO1CoIS58TW"
      },
      "source": [
        "# Feature Scaling\n",
        "# StandardScaler rescales each column to have 0 mean and 1 Standard Deviation.  \n",
        "from sklearn.preprocessing import StandardScaler\n",
        "sc = StandardScaler()\n",
        "x_train = sc.fit_transform(x_train)\n",
        "x_test = sc.transform(x_test)\n"
      ],
      "execution_count": 10,
      "outputs": []
    },
    {
      "cell_type": "code",
      "metadata": {
        "id": "3YzFQ0R-uGuS"
      },
      "source": [
        "# Start Here...\n",
        "import lightgbm as lgb\n",
        "\n",
        "# Load the Training Data Age and Salary and Label => Purchased\n",
        "# First Parameter is the Training Data and the second Parameters is the label\n",
        "d_train = lgb.Dataset(x_train, label=y_train)\n",
        "params = {}\n",
        "params['learning_rate'] = 0.003\n",
        "params['boosting_type'] = 'dart' # dart\n",
        "params['objective'] = 'binary'\n",
        "params['metric'] = 'binary_logloss'\n",
        "params['sub_feature'] = 0.5\n",
        "params['num_leaves'] = 10\n",
        "params['min_data'] = 50\n",
        "params['max_depth'] = 10\n",
        "clf = lgb.train(params, d_train, 100)"
      ],
      "execution_count": 12,
      "outputs": []
    },
    {
      "cell_type": "code",
      "metadata": {
        "id": "9dj6NNLPuVhf",
        "colab": {
          "base_uri": "https://localhost:8080/"
        },
        "outputId": "0a3bdbf0-32f5-4ae1-a732-0dd4ebf6f655"
      },
      "source": [
        "#Prediction\n",
        "y_pred=clf.predict(x_test)\n",
        "print(len(y_pred))\n",
        "\n",
        "# for i in y_pred:\n",
        "for i in range(len(y_pred)):  \n",
        "    if y_pred[i]>=.5:       # setting threshold to .5\n",
        "        y_pred[i]=1\n",
        "    else:  \n",
        "        y_pred[i]=0\n",
        "\n",
        "print(y_pred)\n",
        "#print(y_test)    "
      ],
      "execution_count": 13,
      "outputs": [
        {
          "output_type": "stream",
          "text": [
            "40925\n",
            "[0. 0. 0. ... 0. 0. 0.]\n"
          ],
          "name": "stdout"
        }
      ]
    },
    {
      "cell_type": "code",
      "metadata": {
        "id": "gMTBUsT9u7Po",
        "colab": {
          "base_uri": "https://localhost:8080/"
        },
        "outputId": "0ae65c86-1e60-411e-c26b-dc1e3e474639"
      },
      "source": [
        "#Confusion matrix\n",
        "from sklearn.metrics import confusion_matrix\n",
        "cm = confusion_matrix(y_test, y_pred)\n",
        "#Accuracy\n",
        "from sklearn.metrics import accuracy_score\n",
        "accuracy=accuracy_score(y_pred,y_test)\n",
        "print(accuracy)"
      ],
      "execution_count": 18,
      "outputs": [
        {
          "output_type": "stream",
          "text": [
            "0.7598289554062309\n"
          ],
          "name": "stdout"
        }
      ]
    },
    {
      "cell_type": "code",
      "metadata": {
        "colab": {
          "base_uri": "https://localhost:8080/",
          "height": 477
        },
        "id": "EL6FtcXdPuxM",
        "outputId": "294881ca-ad26-45d0-e3e5-281e6e309bf1"
      },
      "source": [
        "import matplotlib.pyplot as plt\n",
        "import os\n",
        "\n",
        "ax = lgb.plot_importance(clf, max_num_features=10)\n",
        "plt.show()\n",
        " \n",
        "ax = lgb.plot_tree(clf)\n",
        "plt.show()\n"
      ],
      "execution_count": 19,
      "outputs": [
        {
          "output_type": "display_data",
          "data": {
            "image/png": "[encoded data removed]",
            "text/plain": [
              "<Figure size 432x288 with 1 Axes>"
            ]
          },
          "metadata": {
            "tags": [],
            "needs_background": "light"
          }
        },
        {
          "output_type": "display_data",
          "data": {
            "image/png": "[encoded data removed]",
            "text/plain": [
              "<Figure size 432x288 with 1 Axes>"
            ]
          },
          "metadata": {
            "tags": [],
            "needs_background": "light"
          }
        }
      ]
    }
  ]
}