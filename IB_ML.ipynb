{
  "nbformat": 4,
  "nbformat_minor": 0,
  "metadata": {
    "colab": {
      "name": "IB_ML.ipynb",
      "provenance": [],
      "collapsed_sections": [],
      "authorship_tag": "ABX9TyNT5hfPR9qQC5dusKN8vZ5S",
      "include_colab_link": true
    },
    "kernelspec": {
      "name": "python3",
      "display_name": "Python 3"
    },
    "language_info": {
      "name": "python"
    }
  },
  "cells": [
    {
      "cell_type": "markdown",
      "metadata": {
        "id": "view-in-github",
        "colab_type": "text"
      },
      "source": [
        "<a href=\"https://colab.research.google.com/github/nlgandhi/LearnPython/blob/master/IB_ML.ipynb\" target=\"_parent\"><img src=\"https://colab.research.google.com/assets/colab-badge.svg\" alt=\"Open In Colab\"/></a>"
      ]
    },
    {
      "cell_type": "code",
      "metadata": {
        "id": "B6A1mUtWDJ_X",
        "colab": {
          "base_uri": "https://localhost:8080/"
        },
        "outputId": "17c3f209-0d8f-4206-aec3-daf897d366a4"
      },
      "source": [
        "!pip install -q pandas lightgbm\n",
        "!pip install scikit-learn"
      ],
      "execution_count": 34,
      "outputs": [
        {
          "output_type": "stream",
          "text": [
            "Requirement already satisfied: scikit-learn in /usr/local/lib/python3.7/dist-packages (0.22.2.post1)\n",
            "Requirement already satisfied: numpy>=1.11.0 in /usr/local/lib/python3.7/dist-packages (from scikit-learn) (1.19.5)\n",
            "Requirement already satisfied: joblib>=0.11 in /usr/local/lib/python3.7/dist-packages (from scikit-learn) (1.0.1)\n",
            "Requirement already satisfied: scipy>=0.17.0 in /usr/local/lib/python3.7/dist-packages (from scikit-learn) (1.4.1)\n"
          ],
          "name": "stdout"
        }
      ]
    },
    {
      "cell_type": "code",
      "metadata": {
        "id": "KMp4Iow0Wvd4"
      },
      "source": [
        "import numpy as np\n",
        "import matplotlib.pyplot as plt\n",
        "import pandas as pd\n",
        "import sklearn"
      ],
      "execution_count": 113,
      "outputs": []
    },
    {
      "cell_type": "markdown",
      "metadata": {
        "id": "OI6uW4O2mBzt"
      },
      "source": [
        "# New Section"
      ]
    },
    {
      "cell_type": "code",
      "metadata": {
        "id": "VAb04zLeappK",
        "colab": {
          "base_uri": "https://localhost:8080/"
        },
        "outputId": "ada6fc95-9895-484d-e69b-a28051f0152e"
      },
      "source": [
        "# Importing the dataset. \n",
        "dataset = pd.read_csv('IB_Train_Data.csv')\n",
        "# This is the most important step. In this case we are reading the features\n",
        "# that we want to train the model with. In this case its just Age and Estimated Salary.\n",
        "X = dataset.iloc[:, [0,1,2,3,4,5,6,7,8,9]].values\n",
        "print(X[0])\n",
        "# This is the Label. In ths case the LABEL is Purchased\n",
        "y = dataset.iloc[:, 10].values\n",
        "# print(y[0])\n",
        "print('Features Loaded into X and Labels loaded into Y')\n",
        "# print(X)\n",
        "# print(y)"
      ],
      "execution_count": 114,
      "outputs": [
        {
          "output_type": "stream",
          "text": [
            "[1.000e+00 9.600e+01 0.000e+00 2.011e+03 0.000e+00 0.000e+00 0.000e+00\n",
            " 1.000e+00 1.000e+00 2.400e+01]\n",
            "Features Loaded into X and Labels loaded into Y\n"
          ],
          "name": "stdout"
        }
      ]
    },
    {
      "cell_type": "code",
      "metadata": {
        "colab": {
          "base_uri": "https://localhost:8080/"
        },
        "id": "6n83g5rQYOKT",
        "outputId": "7944f923-b1bb-4f9d-9fe1-01123c67a9aa"
      },
      "source": [
        "# Splitting the dataset into the Training set and Test set\n",
        "from sklearn.model_selection import train_test_split\n",
        "x_train, x_test, y_train, y_test = train_test_split(X, y, test_size = 0.2, random_state = 0)\n",
        "print('Data Has Been Split')"
      ],
      "execution_count": 105,
      "outputs": [
        {
          "output_type": "stream",
          "text": [
            "Data Has Been Split\n"
          ],
          "name": "stdout"
        }
      ]
    },
    {
      "cell_type": "code",
      "metadata": {
        "id": "ojO1CoIS58TW",
        "colab": {
          "base_uri": "https://localhost:8080/"
        },
        "outputId": "32ff3edc-d1c6-41ba-c857-c8d78f1b4df5"
      },
      "source": [
        "# Feature Scaling\n",
        "# StandardScaler rescales each column to have 0 mean and 1 Standard Deviation.\n",
        "print(x_test[1])  \n",
        "from sklearn.preprocessing import StandardScaler\n",
        "sc = StandardScaler()\n",
        "x_train = sc.fit_transform(x_train)\n",
        "x_test = sc.transform(x_test)\n",
        "print(x_test[1])  "
      ],
      "execution_count": 115,
      "outputs": [
        {
          "output_type": "stream",
          "text": [
            "[-1.14353617 -0.89879609 -0.73515387 -0.14251079 -0.06646664 -0.02622442\n",
            " -0.08517396 -0.40697647 -0.31974127 -0.54621366]\n",
            "[-1.14353617 -0.89879609 -0.73515387 -0.14251079 -0.06646664 -0.02622442\n",
            " -0.08517396 -0.40697647 -0.31974127 -0.54621366]\n"
          ],
          "name": "stdout"
        }
      ]
    },
    {
      "cell_type": "code",
      "metadata": {
        "id": "3YzFQ0R-uGuS",
        "colab": {
          "base_uri": "https://localhost:8080/"
        },
        "outputId": "0bae75f4-e8b1-4976-878c-35d445c77718"
      },
      "source": [
        "# Start Here...\n",
        "import lightgbm as lgb\n",
        "\n",
        "# Load the Training Data Age and Salary and Label => Purchased\n",
        "# First Parameter is the Training Data and the second Parameters is the label\n",
        "evals_result = {}  # to record eval results for plotting\n",
        "\n",
        "d_train = lgb.Dataset(x_train, label=y_train)\n",
        "params = {}\n",
        "params['learning_rate'] = 0.003\n",
        "params['boosting_type'] = 'dart' # dart\n",
        "params['objective'] = 'binary'\n",
        "params['metric'] = 'binary_logloss'\n",
        "params['sub_feature'] = 0.5\n",
        "params['num_leaves'] = 10\n",
        "params['min_data'] = 50\n",
        "params['max_depth'] = 10\n",
        "clf = lgb.train(params, \n",
        "                d_train, \n",
        "                num_boost_round=100,\n",
        "                evals_result=evals_result,\n",
        "                verbose_eval=10)\n",
        "\n",
        "# Decouple Model develpment from Model Inference \n",
        "print('Saving model...')\n",
        "clf.save_model('IB_ML_V1.txt')\n"
      ],
      "execution_count": 116,
      "outputs": [
        {
          "output_type": "stream",
          "text": [
            "Saving model...\n"
          ],
          "name": "stdout"
        },
        {
          "output_type": "execute_result",
          "data": {
            "text/plain": [
              "<lightgbm.basic.Booster at 0x7f04b1adb8d0>"
            ]
          },
          "metadata": {
            "tags": []
          },
          "execution_count": 116
        }
      ]
    },
    {
      "cell_type": "code",
      "metadata": {
        "id": "-iEAu8PwcS91"
      },
      "source": [
        ""
      ],
      "execution_count": null,
      "outputs": []
    },
    {
      "cell_type": "code",
      "metadata": {
        "id": "9dj6NNLPuVhf"
      },
      "source": [
        "#Prediction\n",
        "bst = lgb.Booster(model_file='IB_ML_V1.txt')  # init model\n",
        "y_pred=bst.predict(x_test)\n",
        "# print(x_test)\n",
        "# print(y_pred)\n",
        "# print(len(y_pred))\n",
        "\n",
        "# for i in y_pred:\n",
        "for i in range(len(y_pred)):  \n",
        "    if y_pred[i]>=.5:       # setting threshold to .5\n",
        "        y_pred[i]=1\n",
        "    else:  \n",
        "        y_pred[i]=0\n",
        "\n",
        "# print(y_pred)\n",
        "#print(y_test)    "
      ],
      "execution_count": 117,
      "outputs": []
    },
    {
      "cell_type": "code",
      "metadata": {
        "colab": {
          "base_uri": "https://localhost:8080/"
        },
        "id": "WcjdR03aigap",
        "outputId": "2af936a6-dbb3-435f-ef3c-88e1d228e9c6"
      },
      "source": [
        "# Single Row Prediction (Important)\n",
        "# Make a single prediction -  Example Row-2=1 \n",
        "\n",
        "model = lgb.Booster(model_file='IB_ML_V1.txt')  # init model\n",
        "row2 = [[1,252,0,1977,0,0,0,1,0,2]]\n",
        "\n",
        "# Really not sure about this part. May need some help here.\n",
        "from sklearn.preprocessing import StandardScaler\n",
        "sc = StandardScaler()\n",
        "x_train = sc.fit_transform(x_train)\n",
        "row2 = sc.transform(row2)\n",
        "print(row2)\n",
        "\n",
        "yhat = model.predict(row2)\n",
        "print('Prediction: %d' % yhat[0])\n",
        "\n"
      ],
      "execution_count": 120,
      "outputs": [
        {
          "output_type": "stream",
          "text": [
            "[[ 1.00000000e+00  2.52000000e+02  4.97251520e-16  1.97700000e+03\n",
            "   3.11370705e-15  1.42288552e-15 -2.86756748e-16  1.00000000e+00\n",
            "   6.58989560e-15  2.00000000e+00]]\n",
            "Prediction: 0\n"
          ],
          "name": "stdout"
        }
      ]
    },
    {
      "cell_type": "code",
      "metadata": {
        "id": "gMTBUsT9u7Po",
        "colab": {
          "base_uri": "https://localhost:8080/"
        },
        "outputId": "d28c79a9-f32e-4235-a86f-820a0caf692b"
      },
      "source": [
        "#Confusion matrix\n",
        "from sklearn.metrics import confusion_matrix\n",
        "cm = confusion_matrix(y_test, y_pred)\n",
        "#Accuracy\n",
        "from sklearn.metrics import accuracy_score\n",
        "accuracy=accuracy_score(y_pred,y_test)\n",
        "print(accuracy)"
      ],
      "execution_count": 110,
      "outputs": [
        {
          "output_type": "stream",
          "text": [
            "0.7635890481252062\n"
          ],
          "name": "stdout"
        }
      ]
    },
    {
      "cell_type": "code",
      "metadata": {
        "colab": {
          "base_uri": "https://localhost:8080/",
          "height": 473
        },
        "id": "EL6FtcXdPuxM",
        "outputId": "f5be368c-9712-485f-a486-4ce1a1af2525"
      },
      "source": [
        "import matplotlib.pyplot as plt\n",
        "import os\n",
        "\n",
        "ax = lgb.plot_importance(bst, max_num_features=10)\n",
        "plt.show()\n",
        " \n",
        "ax = lgb.plot_tree(bst)\n",
        "plt.show()\n",
        "\n",
        "\n",
        "\n"
      ],
      "execution_count": 111,
      "outputs": [
        {
          "output_type": "display_data",
          "data": {
            "image/png": "[encoded data removed]",
            "text/plain": [
              "<Figure size 432x288 with 1 Axes>"
            ]
          },
          "metadata": {
            "tags": [],
            "needs_background": "light"
          }
        },
        {
          "output_type": "display_data",
          "data": {
            "image/png": "[encoded data removed]",
            "text/plain": [
              "<Figure size 432x288 with 1 Axes>"
            ]
          },
          "metadata": {
            "tags": [],
            "needs_background": "light"
          }
        }
      ]
    }
  ]
}