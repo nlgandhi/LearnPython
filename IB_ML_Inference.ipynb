{
  "nbformat": 4,
  "nbformat_minor": 0,
  "metadata": {
    "colab": {
      "name": "IB_ML_Inference.ipynb",
      "provenance": [],
      "collapsed_sections": [],
      "authorship_tag": "ABX9TyPngOBqT49hMcXSvoFu8R3H",
      "include_colab_link": true
    },
    "kernelspec": {
      "name": "python3",
      "display_name": "Python 3"
    },
    "language_info": {
      "name": "python"
    }
  },
  "cells": [
    {
      "cell_type": "markdown",
      "metadata": {
        "id": "view-in-github",
        "colab_type": "text"
      },
      "source": [
        "<a href=\"https://colab.research.google.com/github/nlgandhi/LearnPython/blob/master/IB_ML_Inference.ipynb\" target=\"_parent\"><img src=\"https://colab.research.google.com/assets/colab-badge.svg\" alt=\"Open In Colab\"/></a>"
      ]
    },
    {
      "cell_type": "code",
      "metadata": {
        "colab": {
          "base_uri": "https://localhost:8080/"
        },
        "id": "QM27S6qY-j6D",
        "outputId": "fb59fc73-e254-4db9-c233-28e3319827bb"
      },
      "source": [
        "!pip install -q pandas lightgbm\n",
        "!pip install scikit-learn"
      ],
      "execution_count": 1,
      "outputs": [
        {
          "output_type": "stream",
          "text": [
            "Requirement already satisfied: scikit-learn in /usr/local/lib/python3.7/dist-packages (0.22.2.post1)\n",
            "Requirement already satisfied: scipy>=0.17.0 in /usr/local/lib/python3.7/dist-packages (from scikit-learn) (1.4.1)\n",
            "Requirement already satisfied: numpy>=1.11.0 in /usr/local/lib/python3.7/dist-packages (from scikit-learn) (1.19.5)\n",
            "Requirement already satisfied: joblib>=0.11 in /usr/local/lib/python3.7/dist-packages (from scikit-learn) (1.0.1)\n"
          ],
          "name": "stdout"
        }
      ]
    },
    {
      "cell_type": "code",
      "metadata": {
        "id": "dF3yP2im_rqL"
      },
      "source": [
        "import numpy as np\n",
        "import matplotlib.pyplot as plt\n",
        "import pandas as pd\n",
        "import sklearn"
      ],
      "execution_count": 5,
      "outputs": []
    },
    {
      "cell_type": "code",
      "metadata": {
        "colab": {
          "base_uri": "https://localhost:8080/"
        },
        "id": "t6GU1Bp4-qNP",
        "outputId": "807455a9-aafa-4716-9a34-8df2283a13c1"
      },
      "source": [
        "# Predict all the items for a specific Strata. Test Case BCS1013\n",
        "# Create a dataset for a specific Strata and use that.\n",
        "import lightgbm as lgb\n",
        "\n",
        "model = lgb.Booster(model_file='IB_ML_V1.txt')  # init model\n",
        "\n",
        "strata_ds = pd.read_csv('IB_Train_Data_BCS1013.csv')\n",
        "X = strata_ds.iloc[:, [0,1,2,3,4,5,6,7,8,9]].values\n",
        "# print(X[0])\n",
        "\n",
        "from sklearn.preprocessing import StandardScaler\n",
        "sc = StandardScaler()\n",
        "X = sc.fit_transform(X) # Need to really fix ths line\n",
        "strata_ds = sc.transform(strata_ds)\n",
        "# print(strata_ds[0])\n",
        "\n",
        "strata_pred = model.predict(strata_ds)\n",
        "# print(strata_ds[0])\n",
        "# print(strata_pred[0])\n",
        "count = len(strata_pred)\n",
        "total_score = 0 \n",
        "strata_score = 0\n",
        "\n",
        "for i in range(len(strata_pred)):  \n",
        "    # print(strata_pred[i])\n",
        "    total_score = total_score + (strata_pred[i])\n",
        "    # if strata_pred[i]>=.5:       # setting threshold to .5\n",
        "    #     y_pred[i]=1\n",
        "    # else:  \n",
        "    #     y_pred[i]=0\n",
        "\n",
        "strata_score = (total_score / count)\n",
        "# print(total_score)\n",
        "# print(count)\n",
        "print('Strata Score: ')\n",
        "print(strata_score)\n"
      ],
      "execution_count": 10,
      "outputs": [
        {
          "output_type": "stream",
          "text": [
            "Strata Score: \n",
            "0.33587102381816775\n"
          ],
          "name": "stdout"
        }
      ]
    }
  ]
}