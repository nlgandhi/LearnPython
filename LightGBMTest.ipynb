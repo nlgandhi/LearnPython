{
  "nbformat": 4,
  "nbformat_minor": 0,
  "metadata": {
    "colab": {
      "name": "LightGBMTest.ipynb",
      "provenance": [],
      "collapsed_sections": [],
      "authorship_tag": "ABX9TyNZDURoo2MsqnGRtuubaB7Q",
      "include_colab_link": true
    },
    "kernelspec": {
      "name": "python3",
      "display_name": "Python 3"
    },
    "language_info": {
      "name": "python"
    },
    "accelerator": "GPU"
  },
  "cells": [
    {
      "cell_type": "markdown",
      "metadata": {
        "id": "view-in-github",
        "colab_type": "text"
      },
      "source": [
        "<a href=\"https://colab.research.google.com/github/nlgandhi/LearnPython/blob/master/LightGBMTest.ipynb\" target=\"_parent\"><img src=\"https://colab.research.google.com/assets/colab-badge.svg\" alt=\"Open In Colab\"/></a>"
      ]
    },
    {
      "cell_type": "code",
      "metadata": {
        "id": "B6A1mUtWDJ_X"
      },
      "source": [
        "!pip install -q pandas lightgbm"
      ],
      "execution_count": null,
      "outputs": []
    },
    {
      "cell_type": "code",
      "metadata": {
        "id": "KMp4Iow0Wvd4"
      },
      "source": [
        "import numpy as np\n",
        "import matplotlib.pyplot as plt\n",
        "import pandas as pd\n",
        "import sklearn\n"
      ],
      "execution_count": null,
      "outputs": []
    },
    {
      "cell_type": "markdown",
      "metadata": {
        "id": "OI6uW4O2mBzt"
      },
      "source": [
        "# New Section"
      ]
    },
    {
      "cell_type": "code",
      "metadata": {
        "id": "VAb04zLeappK",
        "colab": {
          "base_uri": "https://localhost:8080/"
        },
        "outputId": "d8e045ab-05bd-47e2-a734-70a26a89591a"
      },
      "source": [
        "# Importing the dataset. \n",
        "dataset = pd.read_csv('Social_Network_Ads.csv')\n",
        "# This is the most important step. In this case we are reading the features\n",
        "# that we want to train the model with. In this case its just Age and Estimated Salary.\n",
        "X = dataset.iloc[:, [2, 3]].values\n",
        "# This is the Label. In ths case the LABEL is Purchased\n",
        "y = dataset.iloc[:, 4].values\n",
        "print('Features Loaded into X and Labels loaded into Y')\n",
        "# print(X)"
      ],
      "execution_count": null,
      "outputs": [
        {
          "output_type": "stream",
          "text": [
            "Features Loaded into X and Labels loaded into Y\n"
          ],
          "name": "stdout"
        }
      ]
    },
    {
      "cell_type": "code",
      "metadata": {
        "colab": {
          "base_uri": "https://localhost:8080/"
        },
        "id": "6n83g5rQYOKT",
        "outputId": "5a552976-2580-419e-fce9-f68fead86f9b"
      },
      "source": [
        "# Splitting the dataset into the Training set and Test set\n",
        "from sklearn.model_selection import train_test_split\n",
        "x_train, x_test, y_train, y_test = train_test_split(X, y, test_size = 0.25, random_state = 0)\n",
        "print('Data Has Been Split')"
      ],
      "execution_count": null,
      "outputs": [
        {
          "output_type": "stream",
          "text": [
            "Data Has Been Split\n"
          ],
          "name": "stdout"
        }
      ]
    },
    {
      "cell_type": "code",
      "metadata": {
        "id": "ojO1CoIS58TW"
      },
      "source": [
        "# Feature Scaling\n",
        "# StandardScaler rescales each column to have 0 mean and 1 Standard Deviation.  \n",
        "from sklearn.preprocessing import StandardScaler\n",
        "sc = StandardScaler()\n",
        "x_train = sc.fit_transform(x_train)\n",
        "x_test = sc.transform(x_test)\n"
      ],
      "execution_count": null,
      "outputs": []
    },
    {
      "cell_type": "code",
      "metadata": {
        "id": "3YzFQ0R-uGuS"
      },
      "source": [
        "# Start Here...\n",
        "import lightgbm as lgb\n",
        "\n",
        "# Load the Training Data Age and Salary and Label => Purchased\n",
        "# First Parameter is the Training Data and the second Parameters is the label\n",
        "d_train = lgb.Dataset(x_train, label=y_train)\n",
        "params = {}\n",
        "params['learning_rate'] = 0.003\n",
        "params['boosting_type'] = 'gbdt'\n",
        "params['objective'] = 'binary'\n",
        "params['metric'] = 'binary_logloss'\n",
        "params['sub_feature'] = 0.5\n",
        "params['num_leaves'] = 10\n",
        "params['min_data'] = 50\n",
        "params['max_depth'] = 10\n",
        "clf = lgb.train(params, d_train, 100)"
      ],
      "execution_count": null,
      "outputs": []
    },
    {
      "cell_type": "code",
      "metadata": {
        "id": "9dj6NNLPuVhf"
      },
      "source": [
        "#Prediction\n",
        "y_pred=clf.predict(x_test)\n",
        "# Loop through and see the reults that should be good\n",
        "#convert into binary values. We may not need to this!\n",
        "for i in range(0,99):\n",
        "    if y_pred[i]>=.5:       # setting threshold to .5\n",
        "       y_pred[i]=1\n",
        "    else:  \n",
        "       y_pred[i]=0"
      ],
      "execution_count": null,
      "outputs": []
    },
    {
      "cell_type": "code",
      "metadata": {
        "id": "gMTBUsT9u7Po"
      },
      "source": [
        "#Confusion matrix\n",
        "from sklearn.metrics import confusion_matrix\n",
        "cm = confusion_matrix(y_test, y_pred)\n",
        "#Accuracy\n",
        "from sklearn.metrics import accuracy_score\n",
        "accuracy=accuracy_score(y_pred,y_test)"
      ],
      "execution_count": null,
      "outputs": []
    }
  ]
}